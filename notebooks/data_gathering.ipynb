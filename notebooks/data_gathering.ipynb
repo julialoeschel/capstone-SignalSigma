{
  "cells": [
    {
      "cell_type": "code",
      "execution_count": 36,
      "metadata": {},
      "outputs": [
        {
          "name": "stdout",
          "output_type": "stream",
          "text": [
            "dotenv                    0.9.9\n",
            "python-dotenv             1.1.0\n"
          ]
        }
      ],
      "source": [
        "!pip list | grep -E \"dotenv\"\n",
        "!mkdir -p ../data/fed ../data/finance ../data/stock"
      ]
    },
    {
      "cell_type": "code",
      "execution_count": null,
      "metadata": {},
      "outputs": [
        {
          "data": {
            "text/plain": [
              "True"
            ]
          },
          "execution_count": 37,
          "metadata": {},
          "output_type": "execute_result"
        }
      ],
      "source": [
        "import os\n",
        "from dotenv import load_dotenv\n",
        "import yfinance as yf\n",
        "import pandas as pd\n",
        "\n",
        "from fredapi import Fred \n",
        "import holidays\n",
        "\n",
        "load_dotenv()"
      ]
    },
    {
      "cell_type": "code",
      "execution_count": null,
      "metadata": {},
      "outputs": [
        {
          "name": "stderr",
          "output_type": "stream",
          "text": [
            "[*********************100%***********************]  1 of 1 completed\n",
            "[*********************100%***********************]  1 of 1 completed\n",
            "[*********************100%***********************]  1 of 1 completed\n",
            "[*********************100%***********************]  1 of 1 completed\n",
            "[*********************100%***********************]  1 of 1 completed\n",
            "[*********************100%***********************]  1 of 1 completed\n"
          ]
        }
      ],
      "source": [
        "tickers = [\"AAPL\", \"TSLA\", \"MSFT\", \"AMZN\", \"GOOGL\",\"NVDA\"]\n",
        "\n",
        "data = {}\n",
        "path_stock = \"../data/stock\"\n",
        "\n",
        "for ticker in tickers:\n",
        "    df = yf.download(ticker, start=\"2000-01-01\", end=\"2025-04-22\", interval=\"1d\")\n",
        "    df['Ticker'] = ticker\n",
        "    data[ticker] = df\n",
        "    df.to_csv(f\"{path_stock}/{ticker}_stock.csv\")"
      ]
    },
    {
      "cell_type": "code",
      "execution_count": 39,
      "metadata": {},
      "outputs": [],
      "source": [
        "AAPL_df = pd.read_csv(f\"{path_stock}/AAPL_stock.csv\")\n",
        "AMZN_df = pd.read_csv(f\"{path_stock}/AMZN_stock.csv\")\n",
        "GOOGL_df = pd.read_csv(f\"{path_stock}/GOOGL_stock.csv\")\n",
        "MSFT_df = pd.read_csv(f\"{path_stock}/MSFT_stock.csv\")\n",
        "TSLA_df = pd.read_csv(f\"{path_stock}/TSLA_stock.csv\")\n",
        "NVDA_df = pd.read_csv(f\"{path_stock}/NVDA_stock.csv\")"
      ]
    },
    {
      "cell_type": "code",
      "execution_count": 45,
      "metadata": {},
      "outputs": [],
      "source": [
        "\n",
        "api_key_fed = os.getenv(\"FRED_API_KEY\") \n",
        "path_fed = \"../data/fed\"\n",
        "\n",
        "\n",
        "def get_economic_indicators(api_key, path):\n",
        "    \"\"\"\n",
        "    Fetches economic indicators from FRED, converts to daily frequency,\n",
        "    filters for data after 2000, adds day of week and holiday columns,\n",
        "    filters for working days only, and returns a pandas DataFrame.\n",
        "    \n",
        "    Args:\n",
        "        api_key (str): Your FRED API key.\n",
        "        path (str): The path to save the CSV file.\n",
        "    \n",
        "    Returns:\n",
        "        pandas.DataFrame: A DataFrame containing the economic indicators.\n",
        "        https://fred.stlouisfed.org\n",
        "    \"\"\"\n",
        "    fred = Fred(api_key=api_key) # Create a Fred object using your API key\n",
        "    \n",
        "    indicators = {\n",
        "        \"cpi\": \"CPIAUCSL\",  # Consumer Price Index (CPI): Measures inflation and purchasing power.\n",
        "        \"fed_rate\": \"FEDFUNDS\",  # Federal Funds Rate: Target rate for overnight lending between banks.\n",
        "        \"vix\": \"VIXCLS\",  # VIX Volatility Index: Measures market volatility and risk.\n",
        "        \"oil\": \"DCOILWTICO\",  # Crude Oil Prices: Reflects energy costs and global economic conditions.\n",
        "        \"gdp\": \"GDP\",  # Gross Domestic Product (GDP): Measures overall economic activity and growth.\n",
        "        \"nonfarm_payrolls\": \"PAYEMS\",  # Nonfarm Payrolls: Number of jobs added or lost in the economy.\n",
        "        \"treasury_yield\": \"DGS10\",  # 10-Year Treasury Yield: Reflects long-term interest rates.\n",
        "        \"industrial_production\": \"INDPRO\",  # Industrial Production Index: Measures output of industrial sectors.\n",
        "        \"retail_sales\": \"RSXFS\",  # Retail Sales: Reflects consumer spending and economic health.\n",
        "        \"pmi\": \"MANEMP\",  # Manufacturing PMI: Indicates business conditions in the manufacturing sector.\n",
        "        \"consumer_confidence\": \"UMCSENT\"  # Consumer Confidence Index: Reflects consumer sentiment and spending outlook.\n",
        "    }\n",
        "\n",
        "    df = pd.DataFrame() \n",
        "\n",
        "    for name, series_id in indicators.items():\n",
        "        data = fred.get_series(series_id) # Fetch the data for the current indicator using its series ID\n",
        "        data = data.resample('D').ffill()  # Resample to daily frequency and forward fill missing values\n",
        "        df[name] = data  # Add the data as a column to the DataFrame using the indicator name as the column name\n",
        "\n",
        "    df = df[df.index >= pd.to_datetime('2000-01-01')]\n",
        "\n",
        "    # Add a column for the day of the week to analyze potential day-of-week effects\n",
        "    df['day_of_week'] = df.index.day_name()\n",
        "\n",
        "    # Add a column to indicate whether a date is a US holiday\n",
        "    us_holidays = holidays.US() # Create a US holidays object\n",
        "    df['is_holiday'] = [date in us_holidays for date in df.index] # Check if each date in the index is a holiday\n",
        "    \n",
        "    # Add a column to indicate whether a date is a working day (not a holiday or weekend)\n",
        "    df['is_working_day'] = ~df['is_holiday'] & (df['day_of_week'] != 'Saturday') & (df['day_of_week'] != 'Sunday')\n",
        "    \n",
        "    # Filter the DataFrame to include only working days for analysis purposes\n",
        "    df = df[df['is_working_day']]  \n",
        "    \n",
        "    path_fed = \"../data/fed\"\n",
        "\n",
        "    df.to_csv(f\"{path_fed}/combined_economic_indicators.csv\", index=True) \n",
        "    \n",
        "    return df\n",
        "\n",
        "economic_indicators_df = get_economic_indicators(api_key_fed, path_fed) \n"
      ]
    },
    {
      "cell_type": "markdown",
      "metadata": {},
      "source": [
        "# Yahoo Data\n"
      ]
    },
    {
      "cell_type": "code",
      "execution_count": null,
      "metadata": {},
      "outputs": [
        {
          "name": "stdout",
          "output_type": "stream",
          "text": [
            "Downloading: DXY (DX-Y.NYB)\n"
          ]
        },
        {
          "name": "stderr",
          "output_type": "stream",
          "text": [
            "[*********************100%***********************]  1 of 1 completed\n"
          ]
        },
        {
          "name": "stdout",
          "output_type": "stream",
          "text": [
            "Downloading: S&P500 (^GSPC)\n"
          ]
        },
        {
          "name": "stderr",
          "output_type": "stream",
          "text": [
            "[*********************100%***********************]  1 of 1 completed\n"
          ]
        },
        {
          "name": "stdout",
          "output_type": "stream",
          "text": [
            "Downloading: VIX (^VIX)\n"
          ]
        },
        {
          "name": "stderr",
          "output_type": "stream",
          "text": [
            "[*********************100%***********************]  1 of 1 completed\n"
          ]
        },
        {
          "name": "stdout",
          "output_type": "stream",
          "text": [
            "Downloading: Gold (GC=F)\n"
          ]
        },
        {
          "name": "stderr",
          "output_type": "stream",
          "text": [
            "[*********************100%***********************]  1 of 1 completed\n"
          ]
        },
        {
          "name": "stdout",
          "output_type": "stream",
          "text": [
            "Downloading: Oil_WTI (CL=F)\n"
          ]
        },
        {
          "name": "stderr",
          "output_type": "stream",
          "text": [
            "[*********************100%***********************]  1 of 1 completed\n"
          ]
        },
        {
          "name": "stdout",
          "output_type": "stream",
          "text": [
            "Downloading: Lithium_ETF (LIT)\n"
          ]
        },
        {
          "name": "stderr",
          "output_type": "stream",
          "text": [
            "[*********************100%***********************]  1 of 1 completed\n"
          ]
        },
        {
          "name": "stdout",
          "output_type": "stream",
          "text": [
            "Downloading: Benzene_Proxy (BZ=F)\n"
          ]
        },
        {
          "name": "stderr",
          "output_type": "stream",
          "text": [
            "[*********************100%***********************]  1 of 1 completed\n"
          ]
        },
        {
          "name": "stdout",
          "output_type": "stream",
          "text": [
            "Downloading: Electricity_Proxy (XLU)\n"
          ]
        },
        {
          "name": "stderr",
          "output_type": "stream",
          "text": [
            "[*********************100%***********************]  1 of 1 completed\n"
          ]
        },
        {
          "name": "stdout",
          "output_type": "stream",
          "text": [
            "Downloading: NASDAQ100 (^NDX)\n"
          ]
        },
        {
          "name": "stderr",
          "output_type": "stream",
          "text": [
            "[*********************100%***********************]  1 of 1 completed\n"
          ]
        },
        {
          "name": "stdout",
          "output_type": "stream",
          "text": [
            "Downloading: NASDAQ_Composite (^IXIC)\n"
          ]
        },
        {
          "name": "stderr",
          "output_type": "stream",
          "text": [
            "[*********************100%***********************]  1 of 1 completed\n"
          ]
        },
        {
          "name": "stdout",
          "output_type": "stream",
          "text": [
            "Downloading: Tech_Sector_Index (XLK)\n"
          ]
        },
        {
          "name": "stderr",
          "output_type": "stream",
          "text": [
            "[*********************100%***********************]  1 of 1 completed\n"
          ]
        },
        {
          "name": "stdout",
          "output_type": "stream",
          "text": [
            "Downloading: Copper_Futures (HG=F)\n"
          ]
        },
        {
          "name": "stderr",
          "output_type": "stream",
          "text": [
            "[*********************100%***********************]  1 of 1 completed\n"
          ]
        },
        {
          "name": "stdout",
          "output_type": "stream",
          "text": [
            "Downloading: Silicon_Proxy_SMH (SMH)\n"
          ]
        },
        {
          "name": "stderr",
          "output_type": "stream",
          "text": [
            "[*********************100%***********************]  1 of 1 completed\n"
          ]
        },
        {
          "name": "stdout",
          "output_type": "stream",
          "text": [
            "✅ Saved full macro data to 'data/macro_indicators_full.csv'\n"
          ]
        }
      ],
      "source": [
        "\n",
        "start_date = \"2000-01-01\"\n",
        "end_date = \"2025-04-23\"\n",
        "\n",
        "# Macro indicators + market indices\n",
        "macro_tickers = {\n",
        "    \"DX-Y.NYB\": \"DXY\",                # US Dollar Index\n",
        "    \"^GSPC\": \"S&P500\",                # S&P 500 Index\n",
        "    \"^VIX\": \"VIX\",                    # CBOE Volatility Index\n",
        "    \"GC=F\": \"Gold\",                   # Gold Futures\n",
        "    \"CL=F\": \"Oil_WTI\",                # WTI Crude Oil\n",
        "    \"LIT\": \"Lithium_ETF\",            # Global X Lithium ETF (proxy)\n",
        "    \"BZ=F\": \"Benzene_Proxy\",         # Brent Crude as proxy\n",
        "    \"XLU\": \"Electricity_Proxy\",      # Utilities ETF as proxy for electricity\n",
        "    \"^NDX\": \"NASDAQ100\",             # NASDAQ-100 (Top tech companies)\n",
        "    \"^IXIC\": \"NASDAQ_Composite\",     # NASDAQ Composite Index\n",
        "    \"XLK\": \"Tech_Sector_Index\",       # S&P Technology Sector ETF\n",
        "    \"HG=F\": \"Copper_Futures\",        # Copper Futures (COMEX)\n",
        "    \"SMH\": \"Silicon_Proxy_SMH\"       # Semiconductor proxy (Silicon sector)\n",
        "}\n",
        "\n",
        "# Create output DataFrame\n",
        "macro_df = pd.DataFrame()\n",
        "\n",
        "# Download data\n",
        "for ticker, label in macro_tickers.items():\n",
        "    print(f\"Downloading: {label} ({ticker})\")\n",
        "    try:\n",
        "        df = yf.download(ticker, start=start_date, end=end_date)\n",
        "        macro_df[label] = df[\"Close\"]\n",
        "    except Exception as e:\n",
        "        print(f\"❌ Error downloading {label}: {e}\")\n",
        "\n",
        "# Drop completely empty columns (failed downloads)\n",
        "macro_df.dropna(axis=1, how='all', inplace=True)\n",
        "\n",
        "# Save to CSV\n",
        "path_stock = \"../data/stock\"\n",
        "macro_df.to_csv(f\"{path_stock}/macro_indicators_full.csv\")\n",
        "print(\"✅ Saved full macro data to 'data/macro_indicators_full.csv'\")"
      ]
    }
  ],
  "metadata": {
    "kernelspec": {
      "display_name": ".venv",
      "language": "python",
      "name": "python3"
    },
    "language_info": {
      "codemirror_mode": {
        "name": "ipython",
        "version": 3
      },
      "file_extension": ".py",
      "mimetype": "text/x-python",
      "name": "python",
      "nbconvert_exporter": "python",
      "pygments_lexer": "ipython3",
      "version": "3.11.3"
    },
    "metadata": {
      "interpreter": {
        "hash": "aee8b7b246df8f9039afb4144a1f6fd8d2ca17a180786b69acc140d282b71a49"
      }
    }
  },
  "nbformat": 4,
  "nbformat_minor": 4
}
