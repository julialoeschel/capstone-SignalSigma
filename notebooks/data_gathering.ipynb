{
 "cells": [
  {
   "cell_type": "code",
   "execution_count": null,
   "metadata": {},
   "outputs": [],
   "source": [
    "!pip list | grep -E \"dotenv\"\n",
    "!mkdir -p ../data/fed ../data/finance ../data/stock"
   ]
  },
  {
   "cell_type": "code",
   "execution_count": null,
   "metadata": {},
   "outputs": [],
   "source": [
    "import os\n",
    "from dotenv import load_dotenv\n",
    "\n",
    "load_dotenv()\n",
    "print(f\"Current Working Directory: {os.getcwd()}\")\n",
    "\n",
    "FRED_api_key = os.getenv(\"FRED_API_KEY\")\n",
    "\n"
   ]
  },
  {
   "cell_type": "code",
   "execution_count": null,
   "metadata": {},
   "outputs": [],
   "source": [
    "import yfinance as \n",
    "import pandas as pd\n",
    "\n",
    "tickers = [\"AAPL\", \"TSLA\", \"MSFT\", \"AMZN\", \"GOOGL\"]\n",
    "data = {}\n",
    "path_stock = \"../data/stock\"\n",
    "#path = \"/Users/payamoghtanem/bootcamp/capstone-SignalSigma/data\"\n",
    "for ticker in tickers:\n",
    "    df = yf.download(ticker, start=\"2000-01-01\", end=\"2025-04-22\", interval=\"1d\")\n",
    "    df['Ticker'] = ticker\n",
    "    data[ticker] = df\n",
    "    df.to_csv(f\"{path_stock}/{ticker}_stock.csv\")"
   ]
  },
  {
   "cell_type": "code",
   "execution_count": null,
   "metadata": {},
   "outputs": [],
   "source": [
    "AAPL_df = pd.read_csv(f\"{path_stock}/AAPL_stock.csv\")\n"
   ]
  },
  {
   "cell_type": "code",
   "execution_count": null,
   "metadata": {},
   "outputs": [],
   "source": [
    "AMZN_df = pd.read_csv(f\"{path_stock}/AMZN_stock.csv\")\n"
   ]
  },
  {
   "cell_type": "code",
   "execution_count": null,
   "metadata": {},
   "outputs": [],
   "source": [
    "GOOGL_df = pd.read_csv(f\"{path_stock}/GOOGL_stock.csv\")\n"
   ]
  },
  {
   "cell_type": "code",
   "execution_count": null,
   "metadata": {},
   "outputs": [],
   "source": [
    "MSFT_df = pd.read_csv(f\"{path_stock}/MSFT_stock.csv\")\n"
   ]
  },
  {
   "cell_type": "code",
   "execution_count": null,
   "metadata": {},
   "outputs": [],
   "source": [
    "TSLA_df = pd.read_csv(f\"{path_stock}/TSLA_stock.csv\")\n"
   ]
  },
  {
   "cell_type": "code",
   "execution_count": null,
   "metadata": {},
   "outputs": [],
   "source": [
    "import requests\n",
    "import pandas as pd\n",
    "\n",
    "\n",
    "tickers = [\"AAPL\", \"TSLA\", \"MSFT\", \"AMZN\", \"GOOGL\"]\n",
    "FINANCE_api_key = os.getenv(\"FINANCE_API_KEY\")\n",
    "\n",
    "\n",
    "# Function to fetch data from FMP API and create a DataFrame with time series index\n",
    "def fetch_fmp_data(ticker, endpoint):\n",
    "    url = f\"https://financialmodelingprep.com/api/v3/{endpoint}/{ticker}?limit=5&apikey={FINANCE_api_key}\"\n",
    "    response = requests.get(url)\n",
    "    \n",
    "    if response.status_code == 200:\n",
    "        data = response.json()\n",
    "        if isinstance(data, list) and all(isinstance(item, dict) for item in data):\n",
    "            df = pd.DataFrame(data)\n",
    "            df['date'] = pd.to_datetime(df['date']) # Convert 'date' column to datetime\n",
    "            df.set_index('date', inplace=True) # Set 'date' as index\n",
    "            return df\n",
    "        else:\n",
    "            print(f\"Unexpected data format for {ticker}: {data}\")\n",
    "    else:\n",
    "        print(f\"API request failed for {ticker} with status code: {response.status_code}\")\n",
    "        print(f\"Error message: {response.text}\")\n",
    "    return None\n",
    "\n",
    "# Fetch financial statement data\n",
    "income_statements = {}\n",
    "balance_sheets = {}\n",
    "cash_flow_statements = {}\n",
    "\n",
    "for ticker in tickers:\n",
    "    income_statements[ticker] = fetch_fmp_data(ticker, \"income-statement\") # Income Statement\n",
    "    balance_sheets[ticker] = fetch_fmp_data(ticker, \"balance-sheet-statement\") # Balance Sheet\n",
    "    cash_flow_statements[ticker] = fetch_fmp_data(ticker, \"cash-flow-statement\") # Cash Flow Statement\n",
    "\n",
    "# Fetch key metrics\n",
    "key_metrics = {}\n",
    "for ticker in tickers:\n",
    "    key_metrics[ticker] = fetch_fmp_data(ticker, \"key-metrics\") # Key Metrics\n",
    "\n",
    "# Example: Accessing Apple's income statement\n",
    "apple_income_statement = income_statements[\"AAPL\"] \n",
    "\n",
    "# To see the output, run the code.\n",
    "# apple_income_statement.head()  # Display the first 5 rows\n",
    "path_finance = \"../data/finance\"\n",
    "# Save DataFrames to CSV files\n",
    "for ticker in tickers:\n",
    "    income_statements[ticker].to_csv(f\"{path_finance}/{ticker}_income_statement.csv\")\n",
    "    balance_sheets[ticker].to_csv(f\"{path_finance}/{ticker}_balance_sheet.csv\")\n",
    "    cash_flow_statements[ticker].to_csv(f\"{path_finance}/{ticker}_cash_flow_statement.csv\")\n",
    "    key_metrics[ticker].to_csv(f\"{path_finance}/{ticker}_key_metrics.csv\")"
   ]
  },
  {
   "cell_type": "code",
   "execution_count": null,
   "metadata": {},
   "outputs": [],
   "source": [
    "from fredapi import Fred # Import the Fred class from the fredapi library to interact with the FRED API\n",
    "import pandas as pd # Import the pandas library for data manipulation and analysis\n",
    "import holidays # Import the holidays library to access holiday information\n",
    "\n",
    "def get_economic_indicators(api_key, path):\n",
    "    \"\"\"\n",
    "    Fetches economic indicators from FRED, converts to daily frequency,\n",
    "    filters for data after 2000, adds day of week and holiday columns,\n",
    "    filters for working days only, and returns a pandas DataFrame.\n",
    "    \n",
    "    Args:\n",
    "        api_key (str): Your FRED API key.\n",
    "        path (str): The path to save the CSV file.\n",
    "    \n",
    "    Returns:\n",
    "        pandas.DataFrame: A DataFrame containing the economic indicators.\n",
    "        https://fred.stlouisfed.org\n",
    "    \"\"\"\n",
    "    fred = Fred(api_key=api_key) # Create a Fred object using your API key\n",
    "    \n",
    "    # Economic indicators and their FRED series IDs\n",
    "    # These indicators provide insights into various aspects of the economy:\n",
    "    indicators = {\n",
    "        \"cpi\": \"CPIAUCSL\",  # Consumer Price Index (CPI): Measures inflation and purchasing power.\n",
    "        \"fed_rate\": \"FEDFUNDS\",  # Federal Funds Rate: Target rate for overnight lending between banks.\n",
    "        \"vix\": \"VIXCLS\",  # VIX Volatility Index: Measures market volatility and risk.\n",
    "        \"oil\": \"DCOILWTICO\",  # Crude Oil Prices: Reflects energy costs and global economic conditions.\n",
    "        \"gdp\": \"GDP\",  # Gross Domestic Product (GDP): Measures overall economic activity and growth.\n",
    "        \"nonfarm_payrolls\": \"PAYEMS\",  # Nonfarm Payrolls: Number of jobs added or lost in the economy.\n",
    "        \"treasury_yield\": \"DGS10\",  # 10-Year Treasury Yield: Reflects long-term interest rates.\n",
    "        \"industrial_production\": \"INDPRO\",  # Industrial Production Index: Measures output of industrial sectors.\n",
    "        \"retail_sales\": \"RSXFS\",  # Retail Sales: Reflects consumer spending and economic health.\n",
    "        \"pmi\": \"MANEMP\",  # Manufacturing PMI: Indicates business conditions in the manufacturing sector.\n",
    "        \"consumer_confidence\": \"UMCSENT\"  # Consumer Confidence Index: Reflects consumer sentiment and spending outlook.\n",
    "    }\n",
    "\n",
    "    df = pd.DataFrame()  # Create an empty DataFrame to store the economic indicators\n",
    "\n",
    "    # Loop through the indicators and fetch data from FRED\n",
    "    for name, series_id in indicators.items():\n",
    "        data = fred.get_series(series_id) # Fetch the data for the current indicator using its series ID\n",
    "        data = data.resample('D').ffill()  # Resample to daily frequency and forward fill missing values\n",
    "        df[name] = data  # Add the data as a column to the DataFrame using the indicator name as the column name\n",
    "\n",
    "    # Filter data after 2000-01-01 to focus on more recent economic trends\n",
    "    df = df[df.index >= pd.to_datetime('2000-01-01')]\n",
    "\n",
    "    # Add a column for the day of the week to analyze potential day-of-week effects\n",
    "    df['day_of_week'] = df.index.day_name()\n",
    "\n",
    "    # Add a column to indicate whether a date is a US holiday\n",
    "    us_holidays = holidays.US() # Create a US holidays object\n",
    "    df['is_holiday'] = [date in us_holidays for date in df.index] # Check if each date in the index is a holiday\n",
    "    \n",
    "    # Add a column to indicate whether a date is a working day (not a holiday or weekend)\n",
    "    df['is_working_day'] = ~df['is_holiday'] & (df['day_of_week'] != 'Saturday') & (df['day_of_week'] != 'Sunday')\n",
    "    \n",
    "    # Filter the DataFrame to include only working days for analysis purposes\n",
    "    df = df[df['is_working_day']]  \n",
    "    \n",
    "\n",
    "    # Save the DataFrame to a CSV file for future use\n",
    "    path_fed = \"../data/fed\"\n",
    "\n",
    "    df.to_csv(f\"{path_fed}/combined_economic_indicators.csv\", index=True) \n",
    "    \n",
    "    # Return the DataFrame containing the economic indicators\n",
    "    return df\n",
    "\n",
    "# Example usage:\n",
    " # Replace with your actual API key\n",
    "\n",
    "path_fed = \"../data/fed\"\n",
    "economic_indicators_df = get_economic_indicators(FRED_api_key, path_fed) # Call the function to get the economic indicators DataFrame\n",
    "\n",
    "# Print the first few rows of the DataFrame to inspect the data\n",
    "print(economic_indicators_df.head())"
   ]
  },
  {
   "cell_type": "code",
   "execution_count": null,
   "metadata": {},
   "outputs": [],
   "source": []
  }
 ],
 "metadata": {
  "kernelspec": {
   "display_name": ".venv",
   "language": "python",
   "name": "python3"
  },
  "language_info": {
   "codemirror_mode": {
    "name": "ipython",
    "version": 3
   },
   "file_extension": ".py",
   "mimetype": "text/x-python",
   "name": "python",
   "nbconvert_exporter": "python",
   "pygments_lexer": "ipython3",
   "version": "3.11.3"
  },
  "metadata": {
   "interpreter": {
    "hash": "aee8b7b246df8f9039afb4144a1f6fd8d2ca17a180786b69acc140d282b71a49"
   }
  }
 },
 "nbformat": 4,
 "nbformat_minor": 4
}
