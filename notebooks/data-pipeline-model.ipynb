{
 "cells": [
  {
   "cell_type": "markdown",
   "metadata": {},
   "source": [
    "# Data Pipeline "
   ]
  },
  {
   "cell_type": "code",
   "execution_count": null,
   "metadata": {},
   "outputs": [],
   "source": [
    "from signal_sigma.data_engineering_pipeline import DataEngineeringPipeline\n",
    "import pandas as pd\n",
    "path_stock = \"../data/Stock_market_data\"\n",
    "\n",
    "pipeline = DataEngineeringPipeline(\n",
    "    path_stock=\"../data/Stock_market_data\",\n",
    "    start_date=\"2014-01-01\",\n",
    "    end_date=\"2025-05-01\",\n",
    "    top_n_feature_important=10\n",
    ")\n",
    "\n",
    "features, columns = pipeline.run()\n"
   ]
  },
  {
   "cell_type": "code",
   "execution_count": null,
   "metadata": {},
   "outputs": [],
   "source": [
    "path_stock = \"../data/Stock_market_data\"\n",
    "\n",
    "\n",
    "TSLA_df= pd.read_csv(f\"{path_stock}/TSLA_reduced_dataset_2014-01-01_2025-05-01.csv\", parse_dates=[\"date\"], index_col=\"date\").sort_index()\n",
    "NVDA_df= pd.read_csv(f\"{path_stock}/NVDA_reduced_dataset_2014-01-01_2025-05-01.csv\", parse_dates=[\"date\"], index_col=\"date\").sort_index()\n",
    "MSFT_df= pd.read_csv(f\"{path_stock}/MSFT_reduced_dataset_2014-01-01_2025-05-01.csv\", parse_dates=[\"date\"], index_col=\"date\").sort_index()\n",
    "\n",
    "GOOGL_df= pd.read_csv(f\"{path_stock}/GOOGL_reduced_dataset_2014-01-01_2025-05-09.csv\", parse_dates=[\"date\"], index_col=\"date\").sort_index()\n",
    "\n",
    "AMZN_df= pd.read_csv(f\"{path_stock}/AMZN_reduced_dataset_2014-01-01_2025-05-09.csv\", parse_dates=[\"date\"], index_col=\"date\").sort_index()\n",
    "\n",
    "AAPL_df= pd.read_csv(f\"{path_stock}/AAPL_reduced_dataset_2014-01-01_2025-05-09.csv\", parse_dates=[\"date\"], index_col=\"date\").sort_index()\n"
   ]
  }
 ],
 "metadata": {
  "kernelspec": {
   "display_name": ".venv",
   "language": "python",
   "name": "python3"
  },
  "language_info": {
   "codemirror_mode": {
    "name": "ipython",
    "version": 3
   },
   "file_extension": ".py",
   "mimetype": "text/x-python",
   "name": "python",
   "nbconvert_exporter": "python",
   "pygments_lexer": "ipython3",
   "version": "3.11.3"
  }
 },
 "nbformat": 4,
 "nbformat_minor": 2
}
