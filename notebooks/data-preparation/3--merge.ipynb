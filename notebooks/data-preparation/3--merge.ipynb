{
 "cells": [
  {
   "cell_type": "markdown",
   "id": "e3e5d0b5",
   "metadata": {},
   "source": [
    "# Merge of Data Frames\n",
    "\n",
    "In this notebook, we merge the data frames from different sources. After the merge, we perform some basic EDA tasks."
   ]
  },
  {
   "cell_type": "code",
   "execution_count": null,
   "id": "5d2b5511",
   "metadata": {},
   "outputs": [],
   "source": [
    "import pandas as pd\n",
    "import matplotlib.pyplot as plt\n",
    "from functools import reduce\n",
    "from sklearn.preprocessing import StandardScaler\n",
    "\n",
    "import importlib\n",
    "import ipynbrc"
   ]
  },
  {
   "cell_type": "code",
   "execution_count": null,
   "id": "3afa5f48",
   "metadata": {},
   "outputs": [],
   "source": [
    "importlib.reload(ipynbrc)\n",
    "from ipynbrc import *\n",
    "\n",
    "NB_NUMBER = 3"
   ]
  },
  {
   "cell_type": "code",
   "execution_count": null,
   "id": "d13d8fe9",
   "metadata": {},
   "outputs": [],
   "source": [
    "# Load all data frames\n",
    "\n",
    "dfs_0 = []\n",
    "\n",
    "# Frames for single stocks\n",
    "for ticker in STOCK_TICKERS:\n",
    "    csvname = ticker.lower() + \".csv\"\n",
    "    relpath = os.path.join(DIR_DATA_STOCKS, csvname)\n",
    "    df_0 = load_df_from_csv(relpath, NB_NUMBER)\n",
    "    df_0[\"date\"] = pd.to_datetime(df_0[\"date\"])\n",
    "    dfs_0.append(df_0)\n",
    "\n",
    "# Frame containing macro indicators\n",
    "relpath = RELPATH_DATA_YF_MIF\n",
    "df_0 = load_df_from_csv(relpath, NB_NUMBER)\n",
    "dfs_0.append(df_0)\n",
    "\n",
    "# Frame containing FED data\n",
    "relpath = RELPATH_DATA_FED_CEI\n",
    "df_0 = load_df_from_csv(relpath, NB_NUMBER)\n",
    "dfs_0.append(df_0)"
   ]
  },
  {
   "cell_type": "code",
   "execution_count": null,
   "id": "8a43c4b7",
   "metadata": {},
   "outputs": [],
   "source": [
    "# Merge all data frames on date\n",
    "\n",
    "df = reduce(\n",
    "    lambda df_left, df_right:\n",
    "    # XXX: Why inner join?\n",
    "    pd.merge(df_left, df_right, on=\"date\", how=\"inner\"),\n",
    "    dfs_0,\n",
    ")\n",
    "df.index.name = IDX\n",
    "\n",
    "relpath = \"main.csv\"\n",
    "store_df_as_csv(df, relpath, NB_NUMBER)"
   ]
  },
  {
   "cell_type": "markdown",
   "id": "19ff9fd3",
   "metadata": {},
   "source": [
    "## Stocks from `yfinance`"
   ]
  },
  {
   "cell_type": "code",
   "execution_count": null,
   "id": "7b954edc",
   "metadata": {},
   "outputs": [],
   "source": [
    "# Plot date vs. each investment per stock\n",
    "\n",
    "plt.figure(figsize=(12, 6))\n",
    "\n",
    "cols = cartprod(\"invest\", STOCK_TICKERS)\n",
    "\n",
    "plt.plot(df[\"date\"], df[cols])\n",
    "plt.xlabel(\"Date\")\n",
    "plt.ylabel(\"Investment Value\")\n",
    "plt.title(\"Investment over Time per Stock\")\n",
    "plt.legend(STOCK_TICKERS, loc=\"upper left\")  \n",
    "plt.grid(True)\n",
    "# Adjust layout to prevent overlapping labels\n",
    "plt.tight_layout()  \n",
    "plt.show()"
   ]
  },
  {
   "cell_type": "markdown",
   "id": "2b8955b4",
   "metadata": {},
   "source": [
    "## Market Indices/Indexoids from `yfinance`"
   ]
  },
  {
   "cell_type": "code",
   "execution_count": null,
   "id": "ddf3955d",
   "metadata": {},
   "outputs": [],
   "source": [
    "# Prepare data subframe\n",
    "\n",
    "df_idxs = df[\n",
    "    [\n",
    "        \"date\",\n",
    "        \"s&p500_index\",\n",
    "        \"dow_jones_index\",\n",
    "        \"nasdaq_composite\",\n",
    "        \"russell2000_index\",\n",
    "        \"vix_index\",\n",
    "        \"dollar_index_dxy\",\n",
    "        \"gold_futures\",\n",
    "        \"wti_oil_futures\",\n",
    "        \"copper_futures\",\n",
    "        \"brent_crude_futures\",\n",
    "        \"tech_sector_etf\",\n",
    "        \"energy_sector_etf\",\n",
    "        \"financial_sector_etf\",\n",
    "        \"consumerdiscretionary_etf\",\n",
    "        \"lithium_etf\",\n",
    "        \"semiconductor_etf\",\n",
    "        \"electricity_proxy\",\n",
    "    ]\n",
    "]\n",
    "\n",
    "# For plotting convencience, use date as index.\n",
    "df_idxs = df_idxs.set_index(\"date\")"
   ]
  },
  {
   "cell_type": "code",
   "execution_count": null,
   "id": "799e530a",
   "metadata": {},
   "outputs": [],
   "source": [
    "# Index ranges\n",
    "\n",
    "min = df_idxs.min().round(2)\n",
    "max = df_idxs.max().round(2)\n",
    "df_summary = pd.DataFrame({\n",
    "    \"Index\": df_idxs.columns,\n",
    "    \"Min\": min.values,\n",
    "    \"Max\": max.values,\n",
    "    \"Range\": (max - min).values\n",
    "})\n",
    "print(\"\\nSummary: Index Ranges\\n\")\n",
    "print(df_summary.to_markdown(index=False))"
   ]
  },
  {
   "cell_type": "code",
   "execution_count": null,
   "id": "55182b9b",
   "metadata": {},
   "outputs": [],
   "source": [
    "# Index Time Evolution -- Raw Scale\n",
    "\n",
    "plt.figure(figsize=(14, 7))\n",
    "df_idxs.plot(ax=plt.gca(), linewidth=2)\n",
    "plt.xlabel(\"Date\", fontsize=12)\n",
    "plt.ylabel(\"Value\", fontsize=12)\n",
    "plt.title(\"Macro Indicators Over Time (Raw Scale)\")\n",
    "plt.xticks(rotation=45)\n",
    "plt.legend(loc=\"upper left\", fontsize=10)\n",
    "plt.grid(True, linestyle=\"--\", alpha=0.6)\n",
    "plt.tight_layout()\n",
    "plt.show()"
   ]
  },
  {
   "cell_type": "code",
   "execution_count": null,
   "id": "da7dc91d",
   "metadata": {},
   "outputs": [],
   "source": [
    "# Index Time Evolution -- Standardised Scale\n",
    "\n",
    "scaler = StandardScaler()\n",
    "df_idxs_scaled = scaler.fit_transform(df_idxs)\n",
    "df_idxs_scaled = pd.DataFrame(df_idxs_scaled, columns=df_idxs.columns, index=df_idxs.index)\n",
    "\n",
    "plt.figure(figsize=(20, 10))\n",
    "df_idxs_scaled.plot(ax=plt.gca(), linewidth=2)\n",
    "plt.xlabel(\"Date\", fontsize=12)\n",
    "plt.ylabel(\"Scaled Value\", fontsize=12)\n",
    "plt.title(\"Macro Indicators Over Time (Standardised Scale)\")\n",
    "plt.legend(loc=\"upper left\")\n",
    "plt.grid(True, linestyle=\"--\", alpha=0.6) \n",
    "plt.tight_layout()\n",
    "plt.show()\n"
   ]
  },
  {
   "cell_type": "markdown",
   "id": "c9f7753a",
   "metadata": {},
   "source": [
    "## Market Indicators from `fred`"
   ]
  },
  {
   "cell_type": "code",
   "execution_count": null,
   "id": "89dce4a9",
   "metadata": {},
   "outputs": [],
   "source": [
    "# Prepare data subframe\n",
    "\n",
    "df_inds = df[\n",
    "    [\n",
    "        \"date\",\n",
    "        \"cpi\",\n",
    "        \"fed_rate\",\n",
    "        \"consumer_confidence\",\n",
    "        \"vix_index\",\n",
    "        \"oil\",\n",
    "        \"nonfarm_payrolls\",\n",
    "        \"treasury_yield\",\n",
    "        \"industrial_production\",\n",
    "        \"retail_sales\",\n",
    "        \"pmi\",\n",
    "    ]\n",
    "]\n",
    "\n",
    "# For plotting convencience, use date as index.\n",
    "df_inds = df_inds.set_index(\"date\")"
   ]
  },
  {
   "cell_type": "code",
   "execution_count": null,
   "id": "c5f0c543",
   "metadata": {},
   "outputs": [],
   "source": [
    "# Indicator ranges\n",
    "\n",
    "min = df_inds.min().round(2)\n",
    "max = df_inds.max().round(2)\n",
    "df_summary = pd.DataFrame({\n",
    "    \"Indicator\": df_inds.columns,\n",
    "    \"Min\": min.values,\n",
    "    \"Max\": max.values,\n",
    "    \"Range\": (max - min).values\n",
    "})\n",
    "print(\"\\n**Index Ranges**\\n\")\n",
    "print(df_summary.to_markdown(index=False))"
   ]
  },
  {
   "cell_type": "code",
   "execution_count": null,
   "id": "96e02991",
   "metadata": {},
   "outputs": [],
   "source": [
    "# Indicator Time Evolution -- Raw Scale\n",
    "\n",
    "plt.figure(figsize=(20, 10))\n",
    "df_inds.plot(ax=plt.gca(), linewidth=2)\n",
    "plt.xlabel(\"Date\", fontsize=12)\n",
    "plt.ylabel(\"Value\", fontsize=12)\n",
    "plt.title(\"Indicator Time Evolution (Raw Scale)\")\n",
    "plt.xticks(rotation=45)\n",
    "plt.legend(loc=\"upper left\", fontsize=10)\n",
    "plt.grid(True, linestyle=\"--\", alpha=0.6)\n",
    "\n",
    "plt.tight_layout()\n",
    "plt.show()"
   ]
  },
  {
   "cell_type": "code",
   "execution_count": null,
   "id": "5ceb9e00",
   "metadata": {},
   "outputs": [],
   "source": [
    "# Indicator Time Evolution -- Standardised Scale\n",
    "\n",
    "scaler = StandardScaler()\n",
    "df_inds_scaled = scaler.fit_transform(df_inds)\n",
    "df_inds_scaled = pd.DataFrame(df_inds_scaled, columns=df_inds.columns, index=df_inds.index)\n",
    "\n",
    "plt.figure(figsize=(20, 10))\n",
    "df_inds_scaled.plot(ax=plt.gca(), linewidth=2)\n",
    "plt.xlabel(\"Date\", fontsize=12)\n",
    "plt.ylabel(\"Scaled Value\", fontsize=12)\n",
    "plt.title(\"Indicator Time Evolution (Standardised Scale)\")\n",
    "plt.legend(loc=\"upper left\")\n",
    "plt.grid(True, linestyle=\"--\", alpha=0.6) \n",
    "\n",
    "plt.tight_layout()\n",
    "plt.show()"
   ]
  }
 ],
 "metadata": {
  "kernelspec": {
   "display_name": ".venv",
   "language": "python",
   "name": "python3"
  },
  "language_info": {
   "codemirror_mode": {
    "name": "ipython",
    "version": 3
   },
   "file_extension": ".py",
   "mimetype": "text/x-python",
   "name": "python",
   "nbconvert_exporter": "python",
   "pygments_lexer": "ipython3",
   "version": "3.11.3"
  }
 },
 "nbformat": 4,
 "nbformat_minor": 5
}
