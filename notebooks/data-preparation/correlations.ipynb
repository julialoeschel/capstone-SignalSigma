{
 "cells": [
  {
   "cell_type": "markdown",
   "id": "97305bce",
   "metadata": {},
   "source": [
    "# Correlation Matrix"
   ]
  },
  {
   "cell_type": "code",
   "execution_count": null,
   "id": "a399e46a",
   "metadata": {},
   "outputs": [],
   "source": [
    "import pandas as pd\n",
    "import matplotlib.pyplot as plt\n",
    "import seaborn as sns\n",
    "import numpy as np\n",
    "from IPython.display import display\n",
    "\n",
    "from signal_sigma.config.cfg_legacy import *"
   ]
  },
  {
   "cell_type": "code",
   "execution_count": null,
   "id": "2ee6be08",
   "metadata": {},
   "outputs": [],
   "source": [
    "NB_NUMBER = 5\n",
    "\n",
    "relpath = \"main.csv\"\n",
    "df = load_df_from_csv(relpath, NB_NUMBER)"
   ]
  },
  {
   "cell_type": "code",
   "execution_count": null,
   "id": "3cfd566d",
   "metadata": {},
   "outputs": [],
   "source": [
    "# Data subframe and correlation matrix\n",
    "\n",
    "cols_0 = [\n",
    "    *cartprod(\"close\", STOCK_TICKERS),\n",
    "    \"s&p500_index\",\n",
    "    \"dow_jones_index\",\n",
    "    \"nasdaq_composite\",\n",
    "    \"russell2000_index\",\n",
    "    \"vix_index\",\n",
    "    \"dollar_index_dxy\",\n",
    "    \"gold_futures\",\n",
    "    \"wti_oil_futures\",\n",
    "    \"copper_futures\",\n",
    "    \"brent_crude_futures\",\n",
    "    \"tech_sector_etf\",\n",
    "    \"energy_sector_etf\",\n",
    "    \"financial_sector_etf\",\n",
    "    \"consumerdiscretionary_etf\",\n",
    "    \"lithium_etf\",\n",
    "    \"semiconductor_etf\",\n",
    "    \"electricity_proxy\",\n",
    "    \"cpi\",\n",
    "    \"fed_rate\",\n",
    "    \"consumer_confidence\",\n",
    "    \"oil\",\n",
    "    \"nonfarm_payrolls\",\n",
    "    \"treasury_yield\",\n",
    "    \"industrial_production\",\n",
    "    \"retail_sales\",\n",
    "    \"pmi\",\n",
    "]\n",
    "\n",
    "df = df[cols_0]\n",
    "\n",
    "corr_mat = df.corr()"
   ]
  },
  {
   "cell_type": "code",
   "execution_count": null,
   "id": "f748add1",
   "metadata": {},
   "outputs": [],
   "source": [
    "# (Upper-Triangular) Correlation Matrix\n",
    "\n",
    "# Mask for upper Triangle\n",
    "up_tri = np.triu(np.ones_like(corr_mat, dtype=bool))\n",
    "\n",
    "plt.figure(figsize=(20, 20))\n",
    "sns.heatmap(\n",
    "    corr_mat,\n",
    "    annot=True,\n",
    "    fmt=\".2f\",\n",
    "    cmap=sns.diverging_palette(220, 10, as_cmap=True),\n",
    "    mask=up_tri,\n",
    "    square=True,\n",
    "    cbar=True,\n",
    ")\n",
    "plt.title(\"Correlation Matrix\", fontsize=16)\n",
    "plt.xticks(rotation=45, ha=\"right\")\n",
    "plt.yticks(rotation=0)\n",
    "plt.show()"
   ]
  },
  {
   "cell_type": "code",
   "execution_count": null,
   "id": "66fab008",
   "metadata": {},
   "outputs": [],
   "source": [
    "# Requires Jinja2 ...\n",
    "# # Display styled correlation matrix\n",
    "# display(corr_mat.style.format(precision=2).background_gradient(cmap=\"coolwarm\"))"
   ]
  }
 ],
 "metadata": {
  "kernelspec": {
   "display_name": ".venv",
   "language": "python",
   "name": "python3"
  },
  "language_info": {
   "codemirror_mode": {
    "name": "ipython",
    "version": 3
   },
   "file_extension": ".py",
   "mimetype": "text/x-python",
   "name": "python",
   "nbconvert_exporter": "python",
   "pygments_lexer": "ipython3",
   "version": "3.11.3"
  }
 },
 "nbformat": 4,
 "nbformat_minor": 5
}
